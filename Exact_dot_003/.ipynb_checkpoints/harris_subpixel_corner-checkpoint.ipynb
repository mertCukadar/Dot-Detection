{
 "cells": [
  {
   "cell_type": "code",
   "execution_count": 9,
   "id": "450f3648",
   "metadata": {},
   "outputs": [
    {
     "data": {
      "text/plain": [
       "True"
      ]
     },
     "execution_count": 9,
     "metadata": {},
     "output_type": "execute_result"
    }
   ],
   "source": [
    "import numpy as np\n",
    "import cv2\n",
    "\n",
    "# Load the image and convert to grayscale\n",
    "img = cv2.imread('BW_image.jpeg')\n",
    "gray = cv2.cvtColor(img,cv2.COLOR_BGR2GRAY)\n",
    "\n",
    "# find Harris corners as we did in the previous blog\n",
    "gray = np.float32(gray)\n",
    "dst = cv2.cornerHarris(gray,2,3,0.04)\n",
    "dst = cv2.dilate(dst,None)\n",
    "ret, dst = cv2.threshold(dst,0.01*dst.max(),255,0)\n",
    "dst = np.uint8(dst)\n",
    "\n",
    "# find centroids\n",
    "ret, labels, stats, centroids = cv2.connectedComponentsWithStats(dst)\n",
    "\n",
    "# define the criteria to stop. We stop it after a specified number of iterations\n",
    "# or a certain accuracy is achieved, whichever occurs first.\n",
    "criteria = (cv2.TERM_CRITERIA_EPS + cv2.TERM_CRITERIA_MAX_ITER, 100, 0.001)\n",
    "\n",
    "# Refine the corners using cv2.cornerSubPix()\n",
    "corners = cv2.cornerSubPix(gray,np.float32(centroids),(5,5),(-1,-1),criteria)\n",
    "\n",
    "# To display, first convert the centroids and corners to integer\n",
    "centroids = np.int0(centroids)\n",
    "corners = np.int0(corners)\n",
    "\n",
    "# then i have used red color to mark Harris Corners\n",
    "# and green color to mark refined corners\n",
    "img[centroids[:,1], centroids[:,0]]=[0,0,255]\n",
    "img[corners[:,1], corners[:,0]] = [0,255,0]\n",
    "\n",
    "# Write the image at the desired location\n",
    "cv2.imwrite('dowsubpixel5.jpeg',img)"
   ]
  },
  {
   "cell_type": "code",
   "execution_count": null,
   "id": "8ebd8ff1",
   "metadata": {},
   "outputs": [],
   "source": []
  }
 ],
 "metadata": {
  "kernelspec": {
   "display_name": "Python 3 (ipykernel)",
   "language": "python",
   "name": "python3"
  },
  "language_info": {
   "codemirror_mode": {
    "name": "ipython",
    "version": 3
   },
   "file_extension": ".py",
   "mimetype": "text/x-python",
   "name": "python",
   "nbconvert_exporter": "python",
   "pygments_lexer": "ipython3",
   "version": "3.9.13"
  }
 },
 "nbformat": 4,
 "nbformat_minor": 5
}
