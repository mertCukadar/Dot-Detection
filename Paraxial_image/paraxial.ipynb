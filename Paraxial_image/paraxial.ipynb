{
 "cells": [
  {
   "cell_type": "code",
   "execution_count": 242,
   "metadata": {},
   "outputs": [],
   "source": [
    "import numpy as np\n",
    "from PIL import Image\n",
    "import cv2\n",
    "import matplotlib.pyplot as plt"
   ]
  },
  {
   "cell_type": "code",
   "execution_count": 243,
   "metadata": {},
   "outputs": [],
   "source": [
    "FC = 5.267\n",
    "L = 1307.53 - FC ## (mm)\n",
    "h = 29 ## (mm)\n",
    "px_size = 2.2 * 10**(-3) ##(mm)\n",
    "hx = 30 ## (mm)\n"
   ]
  },
  {
   "cell_type": "code",
   "execution_count": 244,
   "metadata": {},
   "outputs": [
    {
     "name": "stdout",
     "output_type": "stream",
     "text": [
      "shape of original image (1944, 2592, 3)\n"
     ]
    }
   ],
   "source": [
    "#create a blank image\n",
    "img = cv2.imread(\"hyttest2.png\")\n",
    "shape = np.shape(img)\n",
    "\n",
    "print(f\"shape of original image {shape}\")\n",
    "blank_image = np.zeros((1944,2592))"
   ]
  },
  {
   "cell_type": "code",
   "execution_count": 247,
   "metadata": {},
   "outputs": [
    {
     "name": "stdout",
     "output_type": "stream",
     "text": [
      "start point x : -193 y: 65\n",
      "y value :  65 x values -193\n",
      "y value :  118 x values 2557\n",
      "y value :  171 x values 2557\n",
      "y value :  224 x values 2557\n",
      "y value :  277 x values 2557\n",
      "y value :  330 x values 2557\n",
      "y value :  383 x values 2557\n",
      "y value :  436 x values 2557\n",
      "y value :  489 x values 2557\n",
      "y value :  542 x values 2557\n",
      "y value :  595 x values 2557\n",
      "y value :  648 x values 2557\n",
      "y value :  701 x values 2557\n",
      "y value :  754 x values 2557\n",
      "y value :  807 x values 2557\n",
      "y value :  860 x values 2557\n",
      "y value :  913 x values 2557\n",
      "y value :  966 x values 2557\n",
      "y value :  1019 x values 2557\n",
      "y value :  1072 x values 2557\n",
      "y value :  1125 x values 2557\n",
      "y value :  1178 x values 2557\n",
      "y value :  1231 x values 2557\n",
      "y value :  1284 x values 2557\n",
      "y value :  1337 x values 2557\n",
      "y value :  1390 x values 2557\n",
      "y value :  1443 x values 2557\n",
      "y value :  1496 x values 2557\n",
      "y value :  1549 x values 2557\n",
      "y value :  1602 x values 2557\n",
      "y value :  1655 x values 2557\n",
      "y value :  1708 x values 2557\n",
      "y value :  1761 x values 2557\n",
      "y value :  1814 x values 2557\n",
      "y value :  1867 x values 2557\n",
      "y value :  1920 x values 2557\n"
     ]
    },
    {
     "ename": "IndexError",
     "evalue": "index 1973 is out of bounds for axis 0 with size 1944",
     "output_type": "error",
     "traceback": [
      "\u001b[1;31m---------------------------------------------------------------------------\u001b[0m",
      "\u001b[1;31mIndexError\u001b[0m                                Traceback (most recent call last)",
      "Cell \u001b[1;32mIn [247], line 24\u001b[0m\n\u001b[0;32m     22\u001b[0m x \u001b[39m+\u001b[39m\u001b[39m=\u001b[39m h_pixelx\n\u001b[0;32m     23\u001b[0m x \u001b[39m=\u001b[39m \u001b[39mint\u001b[39m(x)\n\u001b[1;32m---> 24\u001b[0m blank_image[y , x] \u001b[39m=\u001b[39m \u001b[39m255\u001b[39m\n",
      "\u001b[1;31mIndexError\u001b[0m: index 1973 is out of bounds for axis 0 with size 1944"
     ]
    }
   ],
   "source": [
    "x_offsett = 0\n",
    "\n",
    "h_pixel = (h*FC/L) / px_size\n",
    "h_pixelx = (hx*FC/L) / px_size\n",
    "\n",
    "y = int((shape[0]/2) - h_pixel * 17)\n",
    "x = int((shape[1]/2) - h_pixelx * 27)\n",
    "\n",
    "blank_image[y , x] = 255\n",
    "\n",
    "print(f\"start point x : {x} y: {y}\")\n",
    "\n",
    "\n",
    "for i in range(36):\n",
    "    print(f\"y value :  {y} x values {x}\")\n",
    "    x = int((shape[1]/2) - h_pixelx * 23)\n",
    "\n",
    "    y += h_pixel\n",
    "    y = int(y)\n",
    "    \n",
    "    for j in range(46):\n",
    "        x += h_pixelx\n",
    "        x = int(x)\n",
    "        blank_image[y , x] = 255\n",
    "    \n",
    "    \n",
    "\n",
    "\n",
    "\n",
    "\n"
   ]
  },
  {
   "cell_type": "code",
   "execution_count": null,
   "metadata": {},
   "outputs": [],
   "source": [
    "plt.imsave(\"paraxial_image.png\",blank_image)\n"
   ]
  },
  {
   "cell_type": "code",
   "execution_count": null,
   "metadata": {},
   "outputs": [],
   "source": []
  }
 ],
 "metadata": {
  "kernelspec": {
   "display_name": "Python 3",
   "language": "python",
   "name": "python3"
  },
  "language_info": {
   "codemirror_mode": {
    "name": "ipython",
    "version": 3
   },
   "file_extension": ".py",
   "mimetype": "text/x-python",
   "name": "python",
   "nbconvert_exporter": "python",
   "pygments_lexer": "ipython3",
   "version": "3.10.9"
  },
  "orig_nbformat": 4,
  "vscode": {
   "interpreter": {
    "hash": "365f981cef08daf89eb7627bf98ff12c083d633af320abf478ca4bbf25b48d45"
   }
  }
 },
 "nbformat": 4,
 "nbformat_minor": 2
}
